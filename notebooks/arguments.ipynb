{
 "cells": [
  {
   "cell_type": "markdown",
   "id": "b3983c7d-d74d-46d6-a82b-3ffe7483c799",
   "metadata": {
    "tags": []
   },
   "source": [
    "### What are arguments?\n",
    "\n",
    "While parameters can pass values from a launch file into a node, arguments (that look like `<arg name=”name”/>` in the launch file) are passed from the CLI to the launch file, or from launch file to launch file. You can put arguments directly into the launch file and give it a value (or in this case a default value):\n",
    "\n",
    "```\n",
    "<launch>\n",
    "  <arg name=\"x_pos\" default=\"0.0\" />\n",
    "  <arg name=\"y_pos\" default=\"0.0\" />\n",
    "  <arg name=\"z_pos\" default=\"0.0\" />\n",
    "...\n",
    "```"
   ]
  },
  {
   "cell_type": "markdown",
   "id": "ad84eaf6-4dc8-44e0-9140-9883fe8b38ed",
   "metadata": {},
   "source": [
    "Or you can pass arguments into “included” files (launch files included in other launch files that will run):\n",
    "\n",
    "```\n",
    "<!-- start world and launch gazebo -->\n",
    "  <include file=\"$(find gazebo_ros)/launch/empty_world.launch\">\n",
    "    <arg name=\"world_name\" value=\"$(find swarmbots)/worlds/$(arg world).world\"/>\n",
    "    <arg name=\"paused\" value=\"true\"/>\n",
    "    <arg name=\"use_sim_time\" value=\"true\"/>\n",
    "    <arg name=\"gui\" value=\"true\"/>\n",
    "    <arg name=\"headless\" value=\"false\"/>\n",
    "    <arg name=\"debug\" value=\"false\"/>\n",
    "  </include>\n",
    "```"
   ]
  },
  {
   "cell_type": "markdown",
   "id": "cb3a278e-c6f3-4f30-b173-71bcf8df6a06",
   "metadata": {},
   "source": [
    "### Substitution args\n",
    "\n",
    "Substitution args, recognized by the `$` and parentheses surrounding the value, are used to pass values between arguments. Setting the value of a parameter or argument as `value=”$(arg argument_name)”` will get the value of argument_name in the same launch file. Using `$(eval some_expression)` will set the value to what the python expression at some_expression evaluates to. Using `$(find pkg)` will get the location of a package recognized by the catkin workspace (very often used)."
   ]
  },
  {
   "cell_type": "markdown",
   "id": "c779d0c6-089f-41a4-b242-ef36e357cafc",
   "metadata": {
    "tags": []
   },
   "source": [
    "### Differences between arguments and parameters \n",
    "\n",
    "Both arguments and parameters can make use of substitution args. However, arguments cannot be changed by nodes like parameters are with `rospy.set_param()`. Because of the limits of substitution, you cannot take the value of a parameter and bring it to an argument. "
   ]
  },
  {
   "cell_type": "markdown",
   "id": "3b242695-fee4-44c8-94d2-9217af3a2aad",
   "metadata": {},
   "source": [
    "### Passing arguments via the command-line\n",
    "\n",
    "If the file you are launching specifies args, you can set the args using the syntax below:\n",
    "\n",
    "```\n",
    "roslaunch my_file.launch arg1:=value1 arg2:=value2\n",
    "```"
   ]
  },
  {
   "cell_type": "code",
   "execution_count": null,
   "id": "1951f0ff-9ee9-49d1-ab67-47f3e63b7703",
   "metadata": {
    "tags": []
   },
   "outputs": [],
   "source": []
  }
 ],
 "metadata": {
  "kernelspec": {
   "display_name": "Python 3 (ipykernel)",
   "language": "python",
   "name": "python3"
  },
  "language_info": {
   "codemirror_mode": {
    "name": "ipython",
    "version": 3
   },
   "file_extension": ".py",
   "mimetype": "text/x-python",
   "name": "python",
   "nbconvert_exporter": "python",
   "pygments_lexer": "ipython3",
   "version": "3.8.10"
  }
 },
 "nbformat": 4,
 "nbformat_minor": 5
}
